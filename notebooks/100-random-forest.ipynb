{
 "cells": [
  {
   "cell_type": "markdown",
   "id": "c1737425-3c83-4261-94c5-d9253421c936",
   "metadata": {},
   "source": [
    "# imports"
   ]
  },
  {
   "cell_type": "code",
   "execution_count": 1,
   "id": "d8460a48-cc5f-40d9-a84e-a818a5b63152",
   "metadata": {},
   "outputs": [],
   "source": [
    "import math\n",
    "import numpy as np\n",
    "import pandas as pd\n",
    "from sklearn.ensemble import RandomForestClassifier"
   ]
  },
  {
   "cell_type": "markdown",
   "id": "287eab63-4b8e-4d24-b7ff-8a59861bd76a",
   "metadata": {},
   "source": [
    "# constants"
   ]
  },
  {
   "cell_type": "code",
   "execution_count": 2,
   "id": "03384e32-5bf4-4ba4-b398-3b3c54bc5de2",
   "metadata": {},
   "outputs": [],
   "source": [
    "THRESHOLD = 0.5"
   ]
  },
  {
   "cell_type": "markdown",
   "id": "a31c73f7-9bd1-43f8-ae7f-90b8dc141d11",
   "metadata": {},
   "source": [
    "# fetch"
   ]
  },
  {
   "cell_type": "code",
   "execution_count": 3,
   "id": "0bec8b9a-7754-48f3-925f-ddd0bd4f29d3",
   "metadata": {},
   "outputs": [
    {
     "data": {
      "text/html": [
       "<div>\n",
       "<style scoped>\n",
       "    .dataframe tbody tr th:only-of-type {\n",
       "        vertical-align: middle;\n",
       "    }\n",
       "\n",
       "    .dataframe tbody tr th {\n",
       "        vertical-align: top;\n",
       "    }\n",
       "\n",
       "    .dataframe thead th {\n",
       "        text-align: right;\n",
       "    }\n",
       "</style>\n",
       "<table border=\"1\" class=\"dataframe\">\n",
       "  <thead>\n",
       "    <tr style=\"text-align: right;\">\n",
       "      <th></th>\n",
       "      <th>x</th>\n",
       "      <th>y</th>\n",
       "      <th>is_in</th>\n",
       "    </tr>\n",
       "  </thead>\n",
       "  <tbody>\n",
       "    <tr>\n",
       "      <th>0</th>\n",
       "      <td>-0.342671</td>\n",
       "      <td>-0.377219</td>\n",
       "      <td>1</td>\n",
       "    </tr>\n",
       "    <tr>\n",
       "      <th>1</th>\n",
       "      <td>-2.189994</td>\n",
       "      <td>-3.914946</td>\n",
       "      <td>0</td>\n",
       "    </tr>\n",
       "    <tr>\n",
       "      <th>2</th>\n",
       "      <td>-0.087206</td>\n",
       "      <td>-3.781911</td>\n",
       "      <td>0</td>\n",
       "    </tr>\n",
       "    <tr>\n",
       "      <th>3</th>\n",
       "      <td>2.124552</td>\n",
       "      <td>-2.604753</td>\n",
       "      <td>0</td>\n",
       "    </tr>\n",
       "    <tr>\n",
       "      <th>4</th>\n",
       "      <td>3.807756</td>\n",
       "      <td>-3.584953</td>\n",
       "      <td>0</td>\n",
       "    </tr>\n",
       "  </tbody>\n",
       "</table>\n",
       "</div>"
      ],
      "text/plain": [
       "          x         y  is_in\n",
       "0 -0.342671 -0.377219      1\n",
       "1 -2.189994 -3.914946      0\n",
       "2 -0.087206 -3.781911      0\n",
       "3  2.124552 -2.604753      0\n",
       "4  3.807756 -3.584953      0"
      ]
     },
     "execution_count": 3,
     "metadata": {},
     "output_type": "execute_result"
    }
   ],
   "source": [
    "working_df = pd.read_csv(\"../data/is_in.csv\")\n",
    "working_df.head()"
   ]
  },
  {
   "cell_type": "markdown",
   "id": "da6c8917-c978-424a-bd1c-a5aaf9bbf9a6",
   "metadata": {},
   "source": [
    "# prepare"
   ]
  },
  {
   "cell_type": "code",
   "execution_count": 4,
   "id": "93708ddf-815c-4464-8ec5-79d33ab09f48",
   "metadata": {},
   "outputs": [],
   "source": [
    "length_all = len(working_df)\n",
    "length_train = math.trunc(length_all * 0.8)\n",
    "end_train = length_train - 1\n",
    "start_test = length_train\n",
    "train_df = working_df.iloc[:end_train]\n",
    "test_df = working_df.iloc[start_test:]"
   ]
  },
  {
   "cell_type": "markdown",
   "id": "e4106a01-de4a-4447-b2b6-6a0ea63d600f",
   "metadata": {},
   "source": [
    "# train"
   ]
  },
  {
   "cell_type": "code",
   "execution_count": 5,
   "id": "72504c70-d955-4089-aac8-890e46afca80",
   "metadata": {},
   "outputs": [],
   "source": [
    "train_pairs=[]\n",
    "for index, row in train_df.iterrows():\n",
    "    train_pairs.append([float(row['x']), float(row['y'])])\n",
    "\n",
    "clf = RandomForestClassifier().fit(np.array(train_pairs), y=train_df[\"is_in\"].values)"
   ]
  },
  {
   "cell_type": "markdown",
   "id": "3af0dbbd-0726-489d-8d4d-e4aff8202fee",
   "metadata": {},
   "source": [
    "# evaluate"
   ]
  },
  {
   "cell_type": "code",
   "execution_count": 6,
   "id": "4052c5fa-c658-4e3a-a508-382520090cb2",
   "metadata": {},
   "outputs": [
    {
     "name": "stdout",
     "output_type": "stream",
     "text": [
      "Accuracy: 0.96\n",
      "FPR: 0.024\n",
      "TPR: 0.9333333333333333\n"
     ]
    }
   ],
   "source": [
    "test_pairs=[]\n",
    "for _, row in test_df.iterrows():\n",
    "    test_pairs.append([float(row['x']), float(row['y'])])\n",
    "\n",
    "probabilities = clf.predict_proba(np.array(test_pairs))\n",
    "\n",
    "tp = 0\n",
    "fp = 0\n",
    "tn = 0\n",
    "fn = 0\n",
    "for i, label in enumerate(test_df[\"is_in\"].values):\n",
    "    if probabilities[i][1] >= THRESHOLD and label == 1:\n",
    "        tp += 1\n",
    "    if probabilities[i][1] >= THRESHOLD and label == 0:\n",
    "        fp += 1\n",
    "    if probabilities[i][1] < THRESHOLD and label == 0:\n",
    "        tn += 1\n",
    "    if probabilities[i][1] < THRESHOLD and label == 1:\n",
    "        fn += 1\n",
    "accuracy = (tp + tn) / (tp + fp + tn + fn)\n",
    "fpr = fp / (fp + tn)\n",
    "tpr = tp / (tp + fn)\n",
    "print(f\"Accuracy: {accuracy}\")\n",
    "print(f\"FPR: {fpr}\")\n",
    "print(f\"TPR: {tpr}\")"
   ]
  }
 ],
 "metadata": {
  "kernelspec": {
   "display_name": "Python 3 (ipykernel)",
   "language": "python",
   "name": "python3"
  },
  "language_info": {
   "codemirror_mode": {
    "name": "ipython",
    "version": 3
   },
   "file_extension": ".py",
   "mimetype": "text/x-python",
   "name": "python",
   "nbconvert_exporter": "python",
   "pygments_lexer": "ipython3",
   "version": "3.11.11"
  }
 },
 "nbformat": 4,
 "nbformat_minor": 5
}
