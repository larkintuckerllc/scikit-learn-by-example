{
 "cells": [
  {
   "cell_type": "markdown",
   "id": "073a97c2-ab8d-498f-bbe8-80f3f62092cf",
   "metadata": {},
   "source": [
    "# imports"
   ]
  },
  {
   "cell_type": "code",
   "execution_count": 10,
   "id": "5506020e-f5f2-40fe-8efe-88ef58f4950a",
   "metadata": {},
   "outputs": [],
   "source": [
    "import math\n",
    "import pandas as pd\n",
    "from sklearn.metrics import mean_squared_error\n",
    "from sklearn.linear_model import LinearRegression"
   ]
  },
  {
   "cell_type": "markdown",
   "id": "32cd4c4a-cb88-4137-96cd-8d20df5ca9c9",
   "metadata": {},
   "source": [
    "# constants"
   ]
  },
  {
   "cell_type": "code",
   "execution_count": 2,
   "id": "b1966182-3bae-4dc0-8829-fb01d4fc5a6f",
   "metadata": {},
   "outputs": [],
   "source": [
    "DATASET = \"../data/mpg-pounds.csv\""
   ]
  },
  {
   "cell_type": "markdown",
   "id": "13446e2a-4ee7-4ed6-8b3c-fd91363b3f77",
   "metadata": {},
   "source": [
    "# fetch"
   ]
  },
  {
   "cell_type": "code",
   "execution_count": 3,
   "id": "366ada39-97c7-4120-b236-64c07193dc1a",
   "metadata": {},
   "outputs": [
    {
     "data": {
      "text/html": [
       "<div>\n",
       "<style scoped>\n",
       "    .dataframe tbody tr th:only-of-type {\n",
       "        vertical-align: middle;\n",
       "    }\n",
       "\n",
       "    .dataframe tbody tr th {\n",
       "        vertical-align: top;\n",
       "    }\n",
       "\n",
       "    .dataframe thead th {\n",
       "        text-align: right;\n",
       "    }\n",
       "</style>\n",
       "<table border=\"1\" class=\"dataframe\">\n",
       "  <thead>\n",
       "    <tr style=\"text-align: right;\">\n",
       "      <th></th>\n",
       "      <th>pounds</th>\n",
       "      <th>mpg</th>\n",
       "    </tr>\n",
       "  </thead>\n",
       "  <tbody>\n",
       "    <tr>\n",
       "      <th>0</th>\n",
       "      <td>2.093838</td>\n",
       "      <td>26.08</td>\n",
       "    </tr>\n",
       "    <tr>\n",
       "      <th>1</th>\n",
       "      <td>2.849907</td>\n",
       "      <td>21.68</td>\n",
       "    </tr>\n",
       "    <tr>\n",
       "      <th>2</th>\n",
       "      <td>3.376607</td>\n",
       "      <td>18.31</td>\n",
       "    </tr>\n",
       "    <tr>\n",
       "      <th>3</th>\n",
       "      <td>2.290349</td>\n",
       "      <td>23.19</td>\n",
       "    </tr>\n",
       "    <tr>\n",
       "      <th>4</th>\n",
       "      <td>3.499968</td>\n",
       "      <td>19.75</td>\n",
       "    </tr>\n",
       "  </tbody>\n",
       "</table>\n",
       "</div>"
      ],
      "text/plain": [
       "     pounds    mpg\n",
       "0  2.093838  26.08\n",
       "1  2.849907  21.68\n",
       "2  3.376607  18.31\n",
       "3  2.290349  23.19\n",
       "4  3.499968  19.75"
      ]
     },
     "execution_count": 3,
     "metadata": {},
     "output_type": "execute_result"
    }
   ],
   "source": [
    "working_df = pd.read_csv(DATASET)\n",
    "working_df.head()"
   ]
  },
  {
   "cell_type": "markdown",
   "id": "d1f50e29-9eca-4bdb-b39d-87a70616f55f",
   "metadata": {},
   "source": [
    "# prepare"
   ]
  },
  {
   "cell_type": "code",
   "execution_count": 4,
   "id": "75b8020c-d4e4-4f62-b620-74d868eb6bf4",
   "metadata": {},
   "outputs": [],
   "source": [
    "length_all = len(working_df)\n",
    "length_train = math.trunc(length_all * 0.8)\n",
    "end_train = length_train - 1\n",
    "start_test = length_train\n",
    "train_df = working_df.iloc[:end_train]\n",
    "test_df = working_df.iloc[start_test:]"
   ]
  },
  {
   "cell_type": "markdown",
   "id": "852c3217-7542-442f-854a-b8f20daaebc8",
   "metadata": {},
   "source": [
    "# train"
   ]
  },
  {
   "cell_type": "code",
   "execution_count": 5,
   "id": "d16ef35a-b1c2-4e25-8662-412cc94e28e4",
   "metadata": {},
   "outputs": [],
   "source": [
    "x_train = train_df[\"pounds\"].values.reshape(-1,1)\n",
    "y_train = train_df[\"mpg\"].values\n",
    "regressor = LinearRegression().fit(x_train, y_train)"
   ]
  },
  {
   "cell_type": "markdown",
   "id": "605fe85e-b77b-44e5-9939-970d206960d7",
   "metadata": {},
   "source": [
    "# evaluate"
   ]
  },
  {
   "cell_type": "code",
   "execution_count": 9,
   "id": "9dde7f45-7227-4bf8-aaaa-1b8996479fdd",
   "metadata": {},
   "outputs": [
    {
     "name": "stdout",
     "output_type": "stream",
     "text": [
      "Mean squared error: 2.49\n"
     ]
    }
   ],
   "source": [
    "x_test = test_df[\"pounds\"].values.reshape(-1,1)\n",
    "y_test = test_df[\"mpg\"].values\n",
    "y_pred = regressor.predict(x_test)\n",
    "print(f\"Mean squared error: {mean_squared_error(y_test, y_pred):.2f}\")"
   ]
  }
 ],
 "metadata": {
  "kernelspec": {
   "display_name": "Python 3 (ipykernel)",
   "language": "python",
   "name": "python3"
  },
  "language_info": {
   "codemirror_mode": {
    "name": "ipython",
    "version": 3
   },
   "file_extension": ".py",
   "mimetype": "text/x-python",
   "name": "python",
   "nbconvert_exporter": "python",
   "pygments_lexer": "ipython3",
   "version": "3.11.11"
  }
 },
 "nbformat": 4,
 "nbformat_minor": 5
}
