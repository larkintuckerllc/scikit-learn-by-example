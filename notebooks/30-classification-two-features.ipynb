{
 "cells": [
  {
   "cell_type": "markdown",
   "id": "330c3f54-2c2f-49b8-968d-f247bc3701b1",
   "metadata": {},
   "source": [
    "# imports"
   ]
  },
  {
   "cell_type": "code",
   "execution_count": 1,
   "id": "eb92c6c8-a06a-4bbe-86e5-6b9f440b525c",
   "metadata": {},
   "outputs": [],
   "source": [
    "import math\n",
    "import numpy as np\n",
    "import pandas as pd\n",
    "from sklearn.linear_model import SGDClassifier"
   ]
  },
  {
   "cell_type": "markdown",
   "id": "88ece2d2-40f9-4218-8abf-ead4c492f716",
   "metadata": {},
   "source": [
    "# fetch"
   ]
  },
  {
   "cell_type": "code",
   "execution_count": 3,
   "id": "25f4bca5-9dfa-44f2-bba0-53107cc07da8",
   "metadata": {},
   "outputs": [
    {
     "data": {
      "text/html": [
       "<div>\n",
       "<style scoped>\n",
       "    .dataframe tbody tr th:only-of-type {\n",
       "        vertical-align: middle;\n",
       "    }\n",
       "\n",
       "    .dataframe tbody tr th {\n",
       "        vertical-align: top;\n",
       "    }\n",
       "\n",
       "    .dataframe thead th {\n",
       "        text-align: right;\n",
       "    }\n",
       "</style>\n",
       "<table border=\"1\" class=\"dataframe\">\n",
       "  <thead>\n",
       "    <tr style=\"text-align: right;\">\n",
       "      <th></th>\n",
       "      <th>major_axis_length</th>\n",
       "      <th>area</th>\n",
       "      <th>is_cammeo</th>\n",
       "    </tr>\n",
       "  </thead>\n",
       "  <tbody>\n",
       "    <tr>\n",
       "      <th>0</th>\n",
       "      <td>0.221789</td>\n",
       "      <td>0.414042</td>\n",
       "      <td>1</td>\n",
       "    </tr>\n",
       "    <tr>\n",
       "      <th>1</th>\n",
       "      <td>-1.337768</td>\n",
       "      <td>-0.919393</td>\n",
       "      <td>0</td>\n",
       "    </tr>\n",
       "    <tr>\n",
       "      <th>2</th>\n",
       "      <td>-1.271277</td>\n",
       "      <td>-1.425637</td>\n",
       "      <td>0</td>\n",
       "    </tr>\n",
       "    <tr>\n",
       "      <th>3</th>\n",
       "      <td>-0.556480</td>\n",
       "      <td>-0.197260</td>\n",
       "      <td>0</td>\n",
       "    </tr>\n",
       "    <tr>\n",
       "      <th>4</th>\n",
       "      <td>-0.921744</td>\n",
       "      <td>-0.713317</td>\n",
       "      <td>0</td>\n",
       "    </tr>\n",
       "  </tbody>\n",
       "</table>\n",
       "</div>"
      ],
      "text/plain": [
       "   major_axis_length      area  is_cammeo\n",
       "0           0.221789  0.414042          1\n",
       "1          -1.337768 -0.919393          0\n",
       "2          -1.271277 -1.425637          0\n",
       "3          -0.556480 -0.197260          0\n",
       "4          -0.921744 -0.713317          0"
      ]
     },
     "execution_count": 3,
     "metadata": {},
     "output_type": "execute_result"
    }
   ],
   "source": [
    "working_df = pd.read_csv(\"../data/is_cammeo.csv\")\n",
    "working_df.head()"
   ]
  },
  {
   "cell_type": "markdown",
   "id": "040b08e0-164c-4b27-935f-bb231cc45de1",
   "metadata": {},
   "source": [
    "# prepare"
   ]
  },
  {
   "cell_type": "code",
   "execution_count": 4,
   "id": "313a4924-52f7-4a5f-ad5b-c21a986bbbb9",
   "metadata": {},
   "outputs": [],
   "source": [
    "length_all = len(working_df)\n",
    "length_train = math.trunc(length_all * 0.8)\n",
    "end_train = length_train - 1\n",
    "start_test = length_train\n",
    "train_df = working_df.iloc[:end_train]\n",
    "test_df = working_df.iloc[start_test:]"
   ]
  },
  {
   "cell_type": "markdown",
   "id": "b4bc5e81-665c-4060-9967-ad9fe0e07614",
   "metadata": {},
   "source": [
    "# train"
   ]
  },
  {
   "cell_type": "code",
   "execution_count": 8,
   "id": "13a36164-a135-4035-aa3e-1a2d6ef915e1",
   "metadata": {},
   "outputs": [],
   "source": [
    "train_pairs=[]\n",
    "for _, row in train_df.iterrows():\n",
    "    train_pairs.append([float(row['major_axis_length']), float(row['area'])])\n",
    "\n",
    "clf = SGDClassifier().fit(np.array(train_pairs), y=train_df[\"is_cammeo\"].values)"
   ]
  },
  {
   "cell_type": "markdown",
   "id": "4fcb8962-a447-46c5-a708-04c537b36409",
   "metadata": {},
   "source": [
    "# evaluate"
   ]
  },
  {
   "cell_type": "code",
   "execution_count": 6,
   "id": "0bcc04c8-7cc0-4b9d-b32a-d988a119b5fa",
   "metadata": {},
   "outputs": [
    {
     "name": "stdout",
     "output_type": "stream",
     "text": [
      "Accuracy: 0.916010498687664\n",
      "FPR: 0.09111111111111111\n",
      "TPR: 0.9262820512820513\n"
     ]
    }
   ],
   "source": [
    "test_pairs=[]\n",
    "for _, row in test_df.iterrows():\n",
    "    test_pairs.append([float(row['major_axis_length']), float(row['area'])])\n",
    "\n",
    "predictions = clf.predict(np.array(test_pairs))\n",
    "\n",
    "tp = 0\n",
    "fp = 0\n",
    "tn = 0\n",
    "fn = 0\n",
    "for i, label in enumerate(test_df[\"is_cammeo\"].values):\n",
    "    if predictions[i] == 1 and label == 1:\n",
    "        tp += 1\n",
    "    if predictions[i] == 1 and label == 0:\n",
    "        fp += 1\n",
    "    if predictions[i] == 0 and label == 0:\n",
    "        tn += 1\n",
    "    if predictions[i] == 0 and label == 1:\n",
    "        fn += 1\n",
    "accuracy = (tp + tn) / (tp + fp + tn + fn)\n",
    "fpr = fp / (fp + tn)\n",
    "tpr = tp / (tp + fn)\n",
    "print(f\"Accuracy: {accuracy}\")\n",
    "print(f\"FPR: {fpr}\")\n",
    "print(f\"TPR: {tpr}\")"
   ]
  }
 ],
 "metadata": {
  "kernelspec": {
   "display_name": "Python 3 (ipykernel)",
   "language": "python",
   "name": "python3"
  },
  "language_info": {
   "codemirror_mode": {
    "name": "ipython",
    "version": 3
   },
   "file_extension": ".py",
   "mimetype": "text/x-python",
   "name": "python",
   "nbconvert_exporter": "python",
   "pygments_lexer": "ipython3",
   "version": "3.11.11"
  }
 },
 "nbformat": 4,
 "nbformat_minor": 5
}
